{
 "cells": [
  {
   "cell_type": "markdown",
   "metadata": {},
   "source": [
    "This example aims to have two target orbits, and one observer orbit. The observer is tasked with monitoring the two targets to minimize the trace covariance of the state over the simulation horizon. We use a PPO agent that is rewarded for minimizing the trace covariance of the target states to the best of its ability."
   ]
  },
  {
   "cell_type": "code",
   "execution_count": 2,
   "metadata": {},
   "outputs": [],
   "source": [
    "%matplotlib widget\n",
    "import sys\n",
    "sys.path.append(\"../src\")\n",
    "\n",
    "import numpy as np\n",
    "import matplotlib.pyplot as plt\n",
    "\n",
    "from SensorTasking import SSA_Problem, Greedy_SSA_Problem\n",
    "from plotting import visualize_info_vs_phase, render, plot_orbits, _visualize_info_other_observers_fixed\n",
    "\n",
    "## for latin hypercube generation\n",
    "from scipy.stats.qmc import LatinHypercube"
   ]
  },
  {
   "cell_type": "code",
   "execution_count": 3,
   "metadata": {},
   "outputs": [],
   "source": [
    "# L2 Halo orbit, period = 3.225 TU  (Target orbit)\n",
    "x0_1 = np.array([\n",
    "        1.1540242813087864,\n",
    "        0.0,\n",
    "        -0.1384196144071876,\n",
    "        4.06530060663289e-15,\n",
    "        -0.21493019200956867,\n",
    "        8.48098638414804e-15\n",
    "    ])\n",
    "\n",
    "# L1 lyapunov, period = 3.225 TU (target orbit)\n",
    "x0_2 = np.array([\n",
    "        0.8027692908754149,\n",
    "        0.0,\n",
    "        0.0,\n",
    "        -1.1309830924549648e-14,\n",
    "        0.33765564334938736,\n",
    "        0.0\n",
    "    ])\n",
    "\n",
    "\n",
    "# 1:1 L2 Lyapunov, period = 6.45 TU (observer orbit)\n",
    "x0_3 = np.array([\n",
    "        0.9982702689023665,\n",
    "        0.0,\n",
    "        0.0,\n",
    "        -2.5322340091977996e-14,\n",
    "        1.5325475708886613,\n",
    "        0.0\n",
    "    ])\n",
    "\n",
    "# 1:1 L1 Lyapunov, period = 6.45 TU (observer orbit)\n",
    "x0_4 = np.array([\n",
    "            0.65457084231188,\n",
    "        0.0,\n",
    "        0.0,\n",
    "        3.887957091335523e-13,\n",
    "        0.7413347560791179,\n",
    "        0.0\n",
    "])\n",
    "\n",
    "\n",
    "# 2:1 Resonant, period = 6.45 TU\n",
    "x0_5 = np.array([\n",
    "        0.9519486347314083,\n",
    "        0.0,\n",
    "        0.0,\n",
    "        0.0,\n",
    "        -0.952445273435512,\n",
    "        0.0\n",
    "    ])\n",
    "\n",
    "# 3:1 Resonant, period = 6.45 TY\n",
    "x0_6 = np.array([\n",
    "        0.13603399956670137,\n",
    "        0.0,\n",
    "        0.0,\n",
    "        1.9130717669166003e-12,\n",
    "        3.202418276067991,\n",
    "        0.0\n",
    "    ])\n",
    "\n"
   ]
  },
  {
   "cell_type": "code",
   "execution_count": null,
   "metadata": {},
   "outputs": [],
   "source": [
    "opt = \"max\"\n",
    "Y = np.array([x0_1, x0_2])\n",
    "Y_periods = np.array([3.225, 3.225])\n",
    "\n",
    "X = np.array([x0_4, x0_5])\n",
    "X_periods = np.array([6.45, 6.45])\n",
    "\n",
    "prob = SSA_Problem(targets=Y,\n",
    "                   target_periods=Y_periods,\n",
    "                   agents=X,\n",
    "                   agent_periods=X_periods,\n",
    "                   opt=opt)\n",
    "plot_orbits(prob, fig=10, projection=\"xz\")\n"
   ]
  },
  {
   "cell_type": "code",
   "execution_count": null,
   "metadata": {},
   "outputs": [],
   "source": [
    "plt.figure(1)\n",
    "# phases = np.linspace(0.385, 0.3865, 40)\n",
    "phases = np.linspace(0., 1.0, 40)\n",
    "visualize_info_vs_phase(prob, phases, observer=1, fig=1)\n",
    "plt.tight_layout()"
   ]
  },
  {
   "cell_type": "code",
   "execution_count": null,
   "metadata": {},
   "outputs": [],
   "source": [
    "plt.figure(2)\n",
    "# phases = np.linspace(0.946, 0.951, 40)\n",
    "phases = np.linspace(0., 1.0, 40)\n",
    "visualize_info_vs_phase(prob, phases, observer=2, fig=2)\n",
    "plt.tight_layout()"
   ]
  },
  {
   "cell_type": "code",
   "execution_count": null,
   "metadata": {},
   "outputs": [],
   "source": [
    "_visualize_info_other_observers_fixed(prob=prob, observer = 1, fig_num = 7)"
   ]
  },
  {
   "cell_type": "code",
   "execution_count": 4,
   "metadata": {},
   "outputs": [],
   "source": [
    "# Define the range for x and y\n",
    "x = np.linspace(0, 0.1, 100)  \n",
    "y = np.linspace(0, 0.1, 100)\n",
    "\n",
    "# Create a meshgrid\n",
    "X, Y = np.meshgrid(x, y)"
   ]
  },
  {
   "cell_type": "code",
   "execution_count": 9,
   "metadata": {},
   "outputs": [],
   "source": [
    "\n",
    "Z = np.zeros_like(X)\n",
    "\n",
    "# Iterate through each point in the meshgrid\n",
    "for i in range(X.shape[0]):  # Loop over rows\n",
    "    for j in range(X.shape[1]):  # Loop over columns\n",
    "        candidate = [X[i, j], Y[i, j]]\n",
    "        _, obj = prob.get_control_obj(candidate)\n",
    "        Z[i, j] = np.log10(obj)\n",
    "\n"
   ]
  },
  {
   "cell_type": "code",
   "execution_count": 5,
   "metadata": {},
   "outputs": [],
   "source": [
    "Z = np.load(\"../data/Z.npy\")"
   ]
  },
  {
   "cell_type": "code",
   "execution_count": null,
   "metadata": {},
   "outputs": [],
   "source": [
    "# Create the contour plot\n",
    "plt.figure(figsize=(8, 6))\n",
    "contour = plt.contourf(X, Y, Z, levels=20, cmap='viridis')\n",
    "cbar = plt.colorbar(contour)\n",
    "cbar.set_label(r'$\\log_{10}(f)$', rotation=90, labelpad=15)\n",
    "plt.title('Objective Landscape')\n",
    "plt.xlabel('Observer 1 Phase')\n",
    "plt.ylabel('Observer 2 Phase')\n",
    "plt.rcParams.update({'font.size': 16})\n",
    "plt.grid()\n",
    "plt.show()"
   ]
  },
  {
   "cell_type": "code",
   "execution_count": 11,
   "metadata": {},
   "outputs": [],
   "source": [
    "np.save('Z_zoom.npy', Z)"
   ]
  }
 ],
 "metadata": {
  "kernelspec": {
   "display_name": "sensortask",
   "language": "python",
   "name": "python3"
  },
  "language_info": {
   "codemirror_mode": {
    "name": "ipython",
    "version": 3
   },
   "file_extension": ".py",
   "mimetype": "text/x-python",
   "name": "python",
   "nbconvert_exporter": "python",
   "pygments_lexer": "ipython3",
   "version": "3.12.7"
  }
 },
 "nbformat": 4,
 "nbformat_minor": 2
}
