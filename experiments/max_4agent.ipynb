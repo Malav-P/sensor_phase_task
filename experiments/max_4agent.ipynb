{
 "cells": [
  {
   "cell_type": "markdown",
   "metadata": {},
   "source": [
    "This example aims to have two target orbits, and one observer orbit. The observer is tasked with monitoring the two targets to minimize the trace covariance of the state over the simulation horizon. We use a PPO agent that is rewarded for minimizing the trace covariance of the target states to the best of its ability."
   ]
  },
  {
   "cell_type": "code",
   "execution_count": 1,
   "metadata": {},
   "outputs": [],
   "source": [
    "%matplotlib widget\n",
    "import sys\n",
    "sys.path.append(\"../src\")\n",
    "\n",
    "import numpy as np\n",
    "import matplotlib.pyplot as plt\n",
    "\n",
    "from SensorTasking import SSA_Problem, run_experiment\n",
    "from plotting import visualize_info_vs_phase, render, plot_orbits, _visualize_info_other_observers_fixed\n"
   ]
  },
  {
   "cell_type": "code",
   "execution_count": 2,
   "metadata": {},
   "outputs": [],
   "source": [
    "# L2 Halo orbit, period = 3.225 TU  (Target orbit)\n",
    "x0_1 = np.array([\n",
    "        1.1540242813087864,\n",
    "        0.0,\n",
    "        -0.1384196144071876,\n",
    "        4.06530060663289e-15,\n",
    "        -0.21493019200956867,\n",
    "        8.48098638414804e-15\n",
    "    ])\n",
    "\n",
    "# L1 lyapunov, period = 3.225 TU (target orbit)\n",
    "x0_2 = np.array([\n",
    "        0.8027692908754149,\n",
    "        0.0,\n",
    "        0.0,\n",
    "        -1.1309830924549648e-14,\n",
    "        0.33765564334938736,\n",
    "        0.0\n",
    "    ])\n",
    "\n",
    "\n",
    "# 1:1 L2 Lyapunov, period = 6.45 TU (observer orbit)\n",
    "x0_3 = np.array([\n",
    "        0.9982702689023665,\n",
    "        0.0,\n",
    "        0.0,\n",
    "        -2.5322340091977996e-14,\n",
    "        1.5325475708886613,\n",
    "        0.0\n",
    "    ])\n",
    "\n",
    "# 1:1 L1 Lyapunov, period = 6.45 TU (observer orbit)\n",
    "x0_4 = np.array([\n",
    "            0.65457084231188,\n",
    "        0.0,\n",
    "        0.0,\n",
    "        3.887957091335523e-13,\n",
    "        0.7413347560791179,\n",
    "        0.0\n",
    "])\n",
    "\n",
    "\n",
    "# 2:1 Resonant, period = 6.45 TU\n",
    "x0_5 = np.array([\n",
    "        0.9519486347314083,\n",
    "        0.0,\n",
    "        0.0,\n",
    "        0.0,\n",
    "        -0.952445273435512,\n",
    "        0.0\n",
    "    ])\n",
    "\n",
    "# 3:1 Resonant, period = 6.45 TU\n",
    "x0_6 = np.array([\n",
    "        0.13603399956670137,\n",
    "        0.0,\n",
    "        0.0,\n",
    "        1.9130717669166003e-12,\n",
    "        3.202418276067991,\n",
    "        0.0\n",
    "    ])\n",
    "\n",
    "# DRO, period = 6.15436531128442 TU\n",
    "x0_7 = np.array([\n",
    "    3.86808653812329E-01,\n",
    "    6.8407409893399E-24,\t\n",
    "    -5.60033463922659E-24,\t\n",
    "    1.09155528781707E-12,\t\n",
    "    1.60446309748097E+00,\t\n",
    "    1.32939502714562E-23\n",
    "])\n",
    "\n",
    "# DRO, period = 5.0298610501976651 TU\n",
    "x0_8 = np.array([\n",
    "    \t6.8355909882592514E-1,\n",
    "        1.9414482129110789E-23,\t\n",
    "        -4.7191016718963267E-25,\t\n",
    "        -1.6753163837408492E-13,\t\n",
    "        7.2752642654283473E-1,\t\n",
    "        1.1511771211953919E-26\n",
    "])\n",
    "\n",
    "# L2 Lyapunov, period = 3.7132531304869154 TU\n",
    "x0_9 = np.array([\n",
    "    \t1.0636292377522296E+0,\n",
    "        -3.1952388095755208E-28,\t\n",
    "        9.6105846729337803E-36,\t\n",
    "        4.8862169349265717E-15,\t\n",
    "        4.6223063293086447E-1,\t\n",
    "        -9.4408653291941199E-34\n",
    "])\n",
    "\n",
    "# L1 Axial, period = \t4.0644559461513419 TU\n",
    "x0_10 = np.array([\n",
    "    8.6820930401836149E-1,\n",
    "    5.5027367208688037E-28,\n",
    "    -4.4974818793315218E-14,\n",
    "    5.2267698022197043E-14,\n",
    "    5.8641302242843835E-2,\n",
    "    -4.5352796623152170E-1\n",
    "])\n",
    "\n",
    "# butterfly, period = 3.7265552310265724 TU\n",
    "x0_11 = np.array([\n",
    "    9.0453898750573813E-1,\n",
    "    -3.0042855182227924E-26,\n",
    "    1.4388186844294218E-1,\n",
    "    -8.5656563732450135E-15,\n",
    "    -4.9801575824700677E-2,\n",
    "    -1.9332247649544646E-14\n",
    "])\n",
    "\n"
   ]
  },
  {
   "cell_type": "code",
   "execution_count": null,
   "metadata": {},
   "outputs": [],
   "source": [
    "Y = np.array([x0_1, x0_2, x0_9])\n",
    "Y_periods = np.array([ 3.225, 3.225, 3.7132531304869154])\n",
    "X = np.array([x0_7, x0_8, x0_10, x0_11])\n",
    "X_periods = np.array([ 6.15436531128442, 5.0298610501976651,4.0644559461513419, 3.7265552310265724])\n",
    "opt = \"max\"\n",
    "prob = SSA_Problem(targets=Y,\n",
    "                   target_periods=Y_periods,\n",
    "                   agents=X,\n",
    "                   agent_periods=X_periods,\n",
    "                   opt=opt)\n",
    "plot_orbits(prob, fig=10, projection=\"xy\")\n",
    "plt.tight_layout()"
   ]
  },
  {
   "cell_type": "code",
   "execution_count": null,
   "metadata": {},
   "outputs": [],
   "source": [
    "plt.close(1)\n",
    "plt.figure(1)\n",
    "phases = np.linspace(0.97, 1.03, 40)\n",
    "visualize_info_vs_phase(prob, phases, observer=3, fig=1, show_myopic=True, show_ROG=True)\n",
    "plt.tight_layout()\n",
    "plt.show()"
   ]
  },
  {
   "cell_type": "code",
   "execution_count": null,
   "metadata": {},
   "outputs": [],
   "source": [
    "plt.close(2)\n",
    "plt.figure(2)\n",
    "phases = np.linspace(0.68, 0.73, 40)\n",
    "visualize_info_vs_phase(prob, phases, observer=4, fig=2, show_myopic=True, show_ROG=True)\n",
    "plt.tight_layout()\n",
    "plt.show()"
   ]
  },
  {
   "cell_type": "code",
   "execution_count": null,
   "metadata": {},
   "outputs": [],
   "source": [
    "_visualize_info_other_observers_fixed(prob=prob, observer=3, fig_num=5)"
   ]
  },
  {
   "cell_type": "code",
   "execution_count": 4,
   "metadata": {},
   "outputs": [],
   "source": [
    "sample = np.array([[0.48, 0.48, 0.001, 0.7]])"
   ]
  },
  {
   "cell_type": "code",
   "execution_count": null,
   "metadata": {},
   "outputs": [],
   "source": [
    "phases, control, objective = run_experiment(obj=opt, method=\"greedy\", targets=Y, target_periods=Y_periods, agents=X, agent_periods=X_periods, init_phase_guess=sample)"
   ]
  },
  {
   "cell_type": "code",
   "execution_count": null,
   "metadata": {},
   "outputs": [],
   "source": [
    "phases, control, objective = run_experiment(obj=opt, method=\"exhaustive\", targets=Y, target_periods=Y_periods, agents=X, agent_periods=X_periods, init_phase_guess=sample)"
   ]
  },
  {
   "cell_type": "code",
   "execution_count": null,
   "metadata": {},
   "outputs": [],
   "source": [
    "np.where(ctrl != control)"
   ]
  },
  {
   "cell_type": "code",
   "execution_count": null,
   "metadata": {},
   "outputs": [],
   "source": [
    "ctrl[175]"
   ]
  },
  {
   "cell_type": "code",
   "execution_count": null,
   "metadata": {},
   "outputs": [],
   "source": [
    "control[175]"
   ]
  },
  {
   "cell_type": "code",
   "execution_count": null,
   "metadata": {},
   "outputs": [],
   "source": [
    "ctrl[208]"
   ]
  },
  {
   "cell_type": "code",
   "execution_count": null,
   "metadata": {},
   "outputs": [],
   "source": [
    "control[208]"
   ]
  },
  {
   "cell_type": "code",
   "execution_count": null,
   "metadata": {},
   "outputs": [],
   "source": [
    "ani = render(prob, x=phases, fig=11, control=control, save = True)"
   ]
  },
  {
   "cell_type": "code",
   "execution_count": null,
   "metadata": {},
   "outputs": [],
   "source": []
  }
 ],
 "metadata": {
  "kernelspec": {
   "display_name": "phasetask",
   "language": "python",
   "name": "python3"
  },
  "language_info": {
   "codemirror_mode": {
    "name": "ipython",
    "version": 3
   },
   "file_extension": ".py",
   "mimetype": "text/x-python",
   "name": "python",
   "nbconvert_exporter": "python",
   "pygments_lexer": "ipython3",
   "version": "3.10.15"
  }
 },
 "nbformat": 4,
 "nbformat_minor": 2
}
