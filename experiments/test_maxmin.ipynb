{
 "cells": [
  {
   "cell_type": "code",
   "execution_count": 1,
   "metadata": {},
   "outputs": [],
   "source": [
    "%matplotlib widget\n",
    "import sys\n",
    "sys.path.append(\"../src\")\n",
    "\n",
    "import numpy as np\n",
    "import matplotlib.pyplot as plt\n",
    "\n",
    "from SensorTasking import SSA_Problem, run_experiment\n",
    "from SensorTasking.compute_coefficients import compute_coefficients, solve_model_maxmin\n",
    "from plotting import render, plot_orbits, visualize_info_vs_phase"
   ]
  },
  {
   "cell_type": "code",
   "execution_count": 2,
   "metadata": {},
   "outputs": [],
   "source": [
    "# L2 Halo orbit, period = 3.225 TU  (Target orbit)\n",
    "x0_1 = np.array([\n",
    "        1.1540242813087864,\n",
    "        0.0,\n",
    "        -0.1384196144071876,\n",
    "        4.06530060663289e-15,\n",
    "        -0.21493019200956867,\n",
    "        8.48098638414804e-15\n",
    "    ])\n",
    "# same L2 halo but phase = 1/2\n",
    "x0_10 = np.array([1.06097909e+00,  1.07560735e-10,  7.34778975e-02, -1.44739818e-10,\n",
    "         3.41397240e-01, -3.07924681e-10])\n",
    "# same L2 halo but phase = 1/3\n",
    "x0_13 = np.array([1.0806927 , -0.12323006, -0.00757954, -0.07789012,  0.07947237,\n",
    "         0.21008552])\n",
    "\n",
    "# L1 lyapunov, period = 3.225 TU (target orbit)\n",
    "x0_2 = np.array([\n",
    "        0.8027692908754149,\n",
    "        0.0,\n",
    "        0.0,\n",
    "        -1.1309830924549648e-14,\n",
    "        0.33765564334938736,\n",
    "        0.0\n",
    "    ])\n",
    "# L1 lyapunov, period = 3.225 TU (target orbit) but phase = 0.25\n",
    "x0_11 = np.array([0.87865254, 0.16826693, 0.        , 0.12091167, 0.00891463,\n",
    "        0.        ])\n",
    "\n",
    "# L1 lyapunov, period = 3.225 TU (target orbit) but phase = 0.75\n",
    "x0_12 = np.array([ 0.87865255, -0.16826693,  0.        , -0.12091164,  0.00891462,\n",
    "         0.        ])\n",
    "\n",
    "\n",
    "# 1:1 L2 Lyapunov, period = 6.45 TU (observer orbit)\n",
    "x0_3 = np.array([\n",
    "        0.9982702689023665,\n",
    "        0.0,\n",
    "        0.0,\n",
    "        -2.5322340091977996e-14,\n",
    "        1.5325475708886613,\n",
    "        0.0\n",
    "    ])\n",
    "\n",
    "# 1:1 L1 Lyapunov, period = 6.45 TU (observer orbit)\n",
    "x0_4 = np.array([\n",
    "            0.65457084231188,\n",
    "        0.0,\n",
    "        0.0,\n",
    "        3.887957091335523e-13,\n",
    "        0.7413347560791179,\n",
    "        0.0\n",
    "])\n",
    "\n",
    "\n",
    "# 2:1 Resonant, period = 6.45 TU\n",
    "x0_5 = np.array([\n",
    "        0.9519486347314083,\n",
    "        0.0,\n",
    "        0.0,\n",
    "        0.0,\n",
    "        -0.952445273435512,\n",
    "        0.0\n",
    "    ])\n",
    "\n",
    "# 3:1 Resonant, period = 6.45 TY\n",
    "x0_6 = np.array([\n",
    "        0.13603399956670137,\n",
    "        0.0,\n",
    "        0.0,\n",
    "        1.9130717669166003e-12,\n",
    "        3.202418276067991,\n",
    "        0.0\n",
    "    ])\n",
    "\n",
    "# L2 Lyapunov, period = 3.7132531304869154 TU\n",
    "x0_9 = np.array([\n",
    "    \t1.0636292377522296E+0,\n",
    "        -3.1952388095755208E-28,\t\n",
    "        9.6105846729337803E-36,\t\n",
    "        4.8862169349265717E-15,\t\n",
    "        4.6223063293086447E-1,\t\n",
    "        -9.4408653291941199E-34\n",
    "])\n"
   ]
  },
  {
   "cell_type": "code",
   "execution_count": null,
   "metadata": {},
   "outputs": [],
   "source": [
    "opt = \"maxmin\"\n",
    "Y = np.array([x0_10, x0_1, x0_13])\n",
    "Y_periods = np.array([3.225, 3.225, 3.225])\n",
    "\n",
    "X = np.array([x0_11, x0_9])\n",
    "X_periods = np.array([3.225, 3.7132531304869154])\n",
    "\n",
    "prob = SSA_Problem(targets=Y,\n",
    "                   target_periods=Y_periods,\n",
    "                   agents=X,\n",
    "                   agent_periods=X_periods,\n",
    "                   opt=opt)\n",
    "plot_orbits(prob, fig=10, projection=\"3d\")"
   ]
  },
  {
   "cell_type": "code",
   "execution_count": null,
   "metadata": {},
   "outputs": [],
   "source": [
    "plt.figure(1)\n",
    "# phases = np.linspace(0.385, 0.3865, 40)\n",
    "phases = np.linspace(0., 1.0, 40)\n",
    "visualize_info_vs_phase(prob, phases, observer=1, fig=1, fixed_phases=[0.6])\n",
    "plt.tight_layout()\n",
    "plt.show()"
   ]
  },
  {
   "cell_type": "code",
   "execution_count": null,
   "metadata": {},
   "outputs": [],
   "source": [
    "plt.figure(2)\n",
    "# phases = np.linspace(0.385, 0.3865, 40)\n",
    "phases = np.linspace(0., 1.0, 40)\n",
    "visualize_info_vs_phase(prob, phases, observer=2, fig=2, fixed_phases=[0.1])\n",
    "plt.tight_layout()\n",
    "plt.show()"
   ]
  },
  {
   "cell_type": "code",
   "execution_count": null,
   "metadata": {},
   "outputs": [],
   "source": [
    "ani = render(prob, x=[0.0, 0.0], fig=11, control=None)"
   ]
  },
  {
   "cell_type": "code",
   "execution_count": 4,
   "metadata": {},
   "outputs": [],
   "source": [
    "sample = np.array([[0.06,0.6]])"
   ]
  },
  {
   "cell_type": "code",
   "execution_count": null,
   "metadata": {},
   "outputs": [],
   "source": [
    "phases, control, objective = run_experiment(obj=opt, method=\"greedy\", targets=Y, target_periods=Y_periods, agents=X, agent_periods=X_periods, init_phase_guess=sample)"
   ]
  },
  {
   "cell_type": "code",
   "execution_count": null,
   "metadata": {},
   "outputs": [],
   "source": [
    "phs, ctrl, obj = run_experiment(obj=opt, method=\"exhaustive\", targets=Y, target_periods=Y_periods, agents=X, agent_periods=X_periods, init_phase_guess=sample)"
   ]
  },
  {
   "cell_type": "code",
   "execution_count": null,
   "metadata": {},
   "outputs": [],
   "source": [
    "np.where(ctrl != control)"
   ]
  }
 ],
 "metadata": {
  "kernelspec": {
   "display_name": "sensortask",
   "language": "python",
   "name": "python3"
  },
  "language_info": {
   "codemirror_mode": {
    "name": "ipython",
    "version": 3
   },
   "file_extension": ".py",
   "mimetype": "text/x-python",
   "name": "python",
   "nbconvert_exporter": "python",
   "pygments_lexer": "ipython3",
   "version": "3.12.7"
  }
 },
 "nbformat": 4,
 "nbformat_minor": 2
}
